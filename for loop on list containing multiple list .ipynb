{
 "cells": [
  {
   "cell_type": "markdown",
   "id": "c7c09709",
   "metadata": {},
   "source": [
    "## Problem Statement \n",
    "1. A list containing multiple sub lists of data record of each student like \n",
    "2. student_marks = \n",
    "                [['Name',  ['A','B','C','D','E']],\n",
    "                 ['Ankit',  [41, 34, 45, 55, 63]],\n",
    "                 ['Aravind',[42, 23, 34, 44, 53]],\n",
    "                 ['Lakshay',[32, 23, 13, 54, 67]],\n",
    "                 ['Gyan',   [23, 82, 23, 63, 34]],\n",
    "                 ['Pranav', [21, 23, 25, 56, 56]]]\n",
    "3. you have find which student scored the highest marks in subject B\n",
    "                \n"
   ]
  },
  {
   "cell_type": "code",
   "execution_count": 3,
   "id": "646c8da3",
   "metadata": {},
   "outputs": [],
   "source": [
    "#Data containg multiple lists in a list\n",
    "student_marks = [['Name',  ['A','B','C','D','E']],\n",
    "                 ['Ankit',  [41, 34, 45, 55, 63]],\n",
    "                 ['Aravind',[42, 23, 34, 44, 53]],\n",
    "                 ['Lakshay',[32, 23, 13, 54, 67]],\n",
    "                 ['Gyan',   [23, 82, 23, 63, 34]],\n",
    "                 ['Pranav', [21, 23, 25, 56, 56]]]"
   ]
  },
  {
   "cell_type": "code",
   "execution_count": 4,
   "id": "69e6407f",
   "metadata": {},
   "outputs": [
    {
     "name": "stdout",
     "output_type": "stream",
     "text": [
      "Gyan scored 82 the highest in subject B\n"
     ]
    }
   ],
   "source": [
    "#Declaring a varible which will contain the value of highest marks\n",
    "highest_marks = 0\n",
    "#Declaring a varible which will contain the name of person scored highest marks\n",
    "name_highest_score = \"\"\n",
    "#using for loop for taking every single value seprated and compared to \"highest_marks\"\n",
    "#taking range from 0 to lenth of our data \"student_marks\"\n",
    "for i in range(1,len(student_marks)):\n",
    "    #using if  (condition) is true which is if value of student marke is gerater then  \n",
    "    if highest_marks < student_marks[i][1][1]:\n",
    "        # updating the value of \"highest_marks\" to  \"student_marks\"\n",
    "        highest_marks = student_marks[i][1][1]\n",
    "        # and updating the name to name of student scored the updated highest marks\n",
    "        name_highest_score = student_marks[i][0]\n",
    "#print the name and the value of highest marks with some string \n",
    "print(name_highest_score,\"scored\", highest_marks, \"the highest in subject B\")"
   ]
  }
 ],
 "metadata": {
  "kernelspec": {
   "display_name": "Python 3 (ipykernel)",
   "language": "python",
   "name": "python3"
  },
  "language_info": {
   "codemirror_mode": {
    "name": "ipython",
    "version": 3
   },
   "file_extension": ".py",
   "mimetype": "text/x-python",
   "name": "python",
   "nbconvert_exporter": "python",
   "pygments_lexer": "ipython3",
   "version": "3.9.12"
  }
 },
 "nbformat": 4,
 "nbformat_minor": 5
}
